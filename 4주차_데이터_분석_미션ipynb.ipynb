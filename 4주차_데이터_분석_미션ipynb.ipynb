{
  "nbformat": 4,
  "nbformat_minor": 0,
  "metadata": {
    "colab": {
      "provenance": [],
      "include_colab_link": true
    },
    "kernelspec": {
      "name": "python3",
      "display_name": "Python 3"
    },
    "language_info": {
      "name": "python"
    }
  },
  "cells": [
    {
      "cell_type": "markdown",
      "metadata": {
        "id": "view-in-github",
        "colab_type": "text"
      },
      "source": [
        "<a href=\"https://colab.research.google.com/github/wjdgusdn12/MildProjectBackEnd/blob/main/4%EC%A3%BC%EC%B0%A8_%EB%8D%B0%EC%9D%B4%ED%84%B0_%EB%B6%84%EC%84%9D_%EB%AF%B8%EC%85%98ipynb.ipynb\" target=\"_parent\"><img src=\"https://colab.research.google.com/assets/colab-badge.svg\" alt=\"Open In Colab\"/></a>"
      ]
    },
    {
      "cell_type": "code",
      "execution_count": null,
      "metadata": {
        "id": "uoyDtGGiXF2p"
      },
      "outputs": [],
      "source": [
        "# 필요한 라이브러리 import\n",
        "import pandas as pd\n",
        "import numpy as np\n",
        "import matplotlib.pyplot as plt\n",
        "import seaborn as sns"
      ]
    },
    {
      "cell_type": "code",
      "source": [
        "# 데이터 읽어오기\n",
        "data = pd.read_excel('엑셀파일경로/retail_sales_dataset.xlsx')"
      ],
      "metadata": {
        "id": "MxriofEmXR-p"
      },
      "execution_count": null,
      "outputs": []
    },
    {
      "cell_type": "markdown",
      "source": [
        "# 1. 데이터 기본 탐색 및 EDA(Exploratory Data Analysis)"
      ],
      "metadata": {
        "id": "k5qLcgELXgx0"
      }
    },
    {
      "cell_type": "markdown",
      "source": [
        "## 데이터 구조 및 분포 파악"
      ],
      "metadata": {
        "id": "ElaE1VmeY1mM"
      }
    },
    {
      "cell_type": "code",
      "source": [
        "# 데이터의 행과 열의 수를 출력\n",
        "\n"
      ],
      "metadata": {
        "id": "bsq0qQkWXPxw"
      },
      "execution_count": null,
      "outputs": []
    },
    {
      "cell_type": "code",
      "source": [
        "# Quantity, Price per Unit, Total Amount의 평균, 중앙값, 최솟값, 최대값 계산 및 출력\n",
        "\n",
        "\n"
      ],
      "metadata": {
        "id": "he8KDN5ZXP2b"
      },
      "execution_count": null,
      "outputs": []
    },
    {
      "cell_type": "code",
      "source": [
        "# 고유한 고객의 수 출력\n",
        "\n",
        "\n"
      ],
      "metadata": {
        "id": "H8-qewftXP4_"
      },
      "execution_count": null,
      "outputs": []
    },
    {
      "cell_type": "code",
      "source": [
        "# 고객의 연령 분포 출력/시각화. 평균 연령과 표준 편차를 계산해주세요.\n",
        "\n",
        "\n"
      ],
      "metadata": {
        "id": "C_SYUhDfXP7V"
      },
      "execution_count": null,
      "outputs": []
    },
    {
      "cell_type": "markdown",
      "source": [
        "## 카테고리와 트렌드 탐색"
      ],
      "metadata": {
        "id": "wMlulVAJY3pv"
      }
    },
    {
      "cell_type": "code",
      "source": [
        "# 제품 카테고리 수 출력\n",
        "\n",
        "\n"
      ],
      "metadata": {
        "id": "oVNMzDgdXP98"
      },
      "execution_count": null,
      "outputs": []
    },
    {
      "cell_type": "code",
      "source": [
        "# 각 카테고리 별 빈도 출력/시각화\n",
        "\n",
        "\n"
      ],
      "metadata": {
        "id": "ze_QUBpfY66X"
      },
      "execution_count": null,
      "outputs": []
    },
    {
      "cell_type": "code",
      "source": [
        "# 총 매출 기준 가장 많은 판매가 이루어진 카테고리 출력\n",
        "\n",
        "\n"
      ],
      "metadata": {
        "id": "7rdfNgBaY68o"
      },
      "execution_count": null,
      "outputs": []
    },
    {
      "cell_type": "code",
      "source": [
        "# 카테고리별 Quantity의 평균 출력\n",
        "\n",
        "\n"
      ],
      "metadata": {
        "id": "ELI2EalFY7BY"
      },
      "execution_count": null,
      "outputs": []
    },
    {
      "cell_type": "code",
      "source": [
        "# 카테고리별 구매량 패턴 파악\n",
        "\n",
        "\n"
      ],
      "metadata": {
        "id": "YdzVgGp-Y7Dr"
      },
      "execution_count": null,
      "outputs": []
    },
    {
      "cell_type": "code",
      "source": [
        "# 성별에 따른 카테고리별 구매 패턴 - 특정 성별에 따른 패턴 파악\n",
        "\n",
        "\n"
      ],
      "metadata": {
        "id": "RpWK18KJZFoE"
      },
      "execution_count": null,
      "outputs": []
    },
    {
      "cell_type": "markdown",
      "source": [
        "## 시간 기반 분석"
      ],
      "metadata": {
        "id": "Nn48ap4gZPJt"
      }
    },
    {
      "cell_type": "code",
      "source": [
        "# 가장 빈번한 거래 날짜\n",
        "\n",
        "\n"
      ],
      "metadata": {
        "id": "XtlrbcagZFqU"
      },
      "execution_count": null,
      "outputs": []
    },
    {
      "cell_type": "code",
      "source": [
        "# 매출 피크가 나타나는 날짜/월\n",
        "\n",
        "\n"
      ],
      "metadata": {
        "id": "VRTfg292ZFuP"
      },
      "execution_count": null,
      "outputs": []
    },
    {
      "cell_type": "code",
      "source": [
        "# 월별, 계절별 고객 구매 패턴/트렌드\n",
        "\n",
        "\n"
      ],
      "metadata": {
        "id": "aqOsVsgYZFxH"
      },
      "execution_count": null,
      "outputs": []
    },
    {
      "cell_type": "code",
      "source": [
        "# 월별 Total Amount(총 금액)\n",
        "\n",
        "\n"
      ],
      "metadata": {
        "id": "J_uRlyeXZFzP"
      },
      "execution_count": null,
      "outputs": []
    },
    {
      "cell_type": "markdown",
      "source": [
        "# 2. 심화 분석 및 시각화"
      ],
      "metadata": {
        "id": "A9epjLkTZar_"
      }
    },
    {
      "cell_type": "markdown",
      "source": [
        "## 매출 트렌드 분석 및 예측"
      ],
      "metadata": {
        "id": "XqlisXOnZczG"
      }
    },
    {
      "cell_type": "code",
      "source": [
        "# 각 카테고리 별 매출 구성비\n",
        "\n",
        "\n"
      ],
      "metadata": {
        "id": "cRttzctVZZlG"
      },
      "execution_count": null,
      "outputs": []
    },
    {
      "cell_type": "code",
      "source": [
        "# 가장 많은 매출 기여를 하고 있는 카테고리\n",
        "\n",
        "\n"
      ],
      "metadata": {
        "id": "psxdbxWaZF1R"
      },
      "execution_count": null,
      "outputs": []
    },
    {
      "cell_type": "code",
      "source": [
        "# 미래 고객 행동, 판매 패턴에 대한 예측 (매출에 영향을 미치는 요인 도출)\n",
        "\n",
        "\n",
        "\n",
        "\n"
      ],
      "metadata": {
        "id": "0Cl9D-YSZiKn"
      },
      "execution_count": null,
      "outputs": []
    },
    {
      "cell_type": "markdown",
      "source": [
        "## 핵심 인사이트 시각화"
      ],
      "metadata": {
        "id": "xRQ7jNHgZn_g"
      }
    },
    {
      "cell_type": "code",
      "source": [
        "# 제품 카테고리 별 매출 비율 시각화 (pie chart, bar chart)\n",
        "\n",
        "\n"
      ],
      "metadata": {
        "id": "YJ8mg3aNZiNK"
      },
      "execution_count": null,
      "outputs": []
    },
    {
      "cell_type": "code",
      "source": [
        "# 고객의 연령 분포 히스토그램으로 시각화\n",
        "\n",
        "\n",
        "\n"
      ],
      "metadata": {
        "id": "nIMYbPbZZiPx"
      },
      "execution_count": null,
      "outputs": []
    },
    {
      "cell_type": "markdown",
      "source": [
        "특정 연령대가 주로 구매를 하는지 확인할 수 있나요?"
      ],
      "metadata": {
        "id": "zYPkMv17Z0SB"
      }
    },
    {
      "cell_type": "code",
      "source": [
        "# 시간에 따른 총 매출 변화 시각화 (line chart)\n",
        "\n",
        "\n",
        "\n",
        "\n"
      ],
      "metadata": {
        "id": "VlqTrklfZ4kK"
      },
      "execution_count": null,
      "outputs": []
    },
    {
      "cell_type": "markdown",
      "source": [
        "월 별로 매출 트렌드가 명확하게 보이나요?"
      ],
      "metadata": {
        "id": "ZQC-1t3IaCwC"
      }
    },
    {
      "cell_type": "code",
      "source": [
        "# 고객 연령과 총 지출 사이의 관계 산점도\n",
        "\n",
        "\n",
        "\n"
      ],
      "metadata": {
        "id": "uZJ4DuF6Z7uB"
      },
      "execution_count": null,
      "outputs": []
    },
    {
      "cell_type": "markdown",
      "source": [
        "고가 고객 그룹을 식별할 수 있나요?"
      ],
      "metadata": {
        "id": "187zjvQYaGzr"
      }
    },
    {
      "cell_type": "code",
      "source": [],
      "metadata": {
        "id": "N7hysnIdZ7yd"
      },
      "execution_count": null,
      "outputs": []
    },
    {
      "cell_type": "markdown",
      "source": [
        "# 추가 분석"
      ],
      "metadata": {
        "id": "yegejldqaJZE"
      }
    },
    {
      "cell_type": "markdown",
      "source": [
        "혹시 추가로 진행한 분석이 있다면, 함께 작성해주세요."
      ],
      "metadata": {
        "id": "o2bPd439aKrH"
      }
    },
    {
      "cell_type": "code",
      "source": [],
      "metadata": {
        "id": "Oy0GLDhcZ70x"
      },
      "execution_count": null,
      "outputs": []
    },
    {
      "cell_type": "code",
      "source": [],
      "metadata": {
        "id": "CiMpxAX7aMm0"
      },
      "execution_count": null,
      "outputs": []
    },
    {
      "cell_type": "code",
      "source": [],
      "metadata": {
        "id": "vfxKRHzmaMre"
      },
      "execution_count": null,
      "outputs": []
    },
    {
      "cell_type": "code",
      "source": [],
      "metadata": {
        "id": "ewPpYY6vaMtx"
      },
      "execution_count": null,
      "outputs": []
    },
    {
      "cell_type": "code",
      "source": [],
      "metadata": {
        "id": "FCP_NtYeaMv3"
      },
      "execution_count": null,
      "outputs": []
    },
    {
      "cell_type": "code",
      "source": [],
      "metadata": {
        "id": "86qvTkNjaMx8"
      },
      "execution_count": null,
      "outputs": []
    },
    {
      "cell_type": "code",
      "source": [],
      "metadata": {
        "id": "sawLi2lDaM0C"
      },
      "execution_count": null,
      "outputs": []
    }
  ]
}